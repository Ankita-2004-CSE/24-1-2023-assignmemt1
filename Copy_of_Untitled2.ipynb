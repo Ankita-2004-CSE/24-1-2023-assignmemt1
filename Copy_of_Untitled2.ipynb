{
  "nbformat": 4,
  "nbformat_minor": 0,
  "metadata": {
    "colab": {
      "provenance": [],
      "authorship_tag": "ABX9TyNjOpVha9Zyoy9T0kR/Y7oi",
      "include_colab_link": true
    },
    "kernelspec": {
      "name": "python3",
      "display_name": "Python 3"
    },
    "language_info": {
      "name": "python"
    }
  },
  "cells": [
    {
      "cell_type": "markdown",
      "metadata": {
        "id": "view-in-github",
        "colab_type": "text"
      },
      "source": [
        "<a href=\"https://colab.research.google.com/github/Ankita-2004-CSE/24-1-2023-assignmemt1/blob/main/Copy_of_Untitled2.ipynb\" target=\"_parent\"><img src=\"https://colab.research.google.com/assets/colab-badge.svg\" alt=\"Open In Colab\"/></a>"
      ]
    },
    {
      "cell_type": "markdown",
      "source": [
        "1.**WAP TO REVERSE AN INTEGER IN PYTHON**\n",
        "\n"
      ],
      "metadata": {
        "id": "LNNKC0GeMP8K"
      }
    },
    {
      "cell_type": "code",
      "execution_count": null,
      "metadata": {
        "colab": {
          "base_uri": "https://localhost:8080/"
        },
        "id": "5biAPXS3KPOF",
        "outputId": "69155c7f-ab40-48ea-c0b5-7fb2cfa74fb0"
      },
      "outputs": [
        {
          "output_type": "stream",
          "name": "stdout",
          "text": [
            "Reversed Number:4\n",
            "Reversed Number:43\n",
            "Reversed Number:432\n",
            "Reversed Number:4321\n"
          ]
        }
      ],
      "source": [
        "num = 1234\n",
        "reversed_num = 0\n",
        "while num != 0:\n",
        "  digit = num % 10\n",
        "  reversed_num = reversed_num * 10 + digit\n",
        "  num //= 10\n",
        "  print(\"Reversed Number:\" + str(reversed_num))"
      ]
    },
    {
      "cell_type": "markdown",
      "source": [
        "2.**WAP TO CHECK WHETHER AN INTEGER IS ARMSTRONG NUMBER OR NOT**"
      ],
      "metadata": {
        "id": "STRNjWYaMZ6y"
      }
    },
    {
      "cell_type": "code",
      "source": [
        "num = int(input(\"Enter a number:\"))\n",
        "sum = 0\n",
        "temp = num\n",
        "while temp > 0:\n",
        "  digit = temp % 10\n",
        "  sum += digit ** 3\n",
        "  temp //= 10\n",
        "  if num == sum:\n",
        "    print(num,\"is an armstrong number\")\n",
        "  else:\n",
        "    print(num,\"is not an armstrong number\")"
      ],
      "metadata": {
        "colab": {
          "base_uri": "https://localhost:8080/"
        },
        "id": "-hU07r4CMYx7",
        "outputId": "ecb607d0-0f07-4982-ff24-9f15b9cd768f"
      },
      "execution_count": null,
      "outputs": [
        {
          "output_type": "stream",
          "name": "stdout",
          "text": [
            "Enter a number:110\n",
            "110 is not an armstrong number\n",
            "110 is not an armstrong number\n",
            "110 is not an armstrong number\n"
          ]
        }
      ]
    },
    {
      "cell_type": "markdown",
      "source": [
        "**3.WAP TO CHECK GIVEN NUMBER IS PRIME OR NOT**"
      ],
      "metadata": {
        "id": "WXrEWGCoOIde"
      }
    },
    {
      "cell_type": "code",
      "source": [
        "\n",
        "\n",
        "num = 29\n",
        "flag = False\n",
        "\n",
        "if num == 1:\n",
        "    print(num, \"is not a prime number\")\n",
        "elif num > 1:\n",
        "    for i in range(2, num):\n",
        "        if (num % i) == 0:\n",
        "            flag = True\n",
        "            break\n",
        "    if flag:\n",
        "        print(num, \"is not a prime number\")\n",
        "    else:\n",
        "        print(num, \"is a prime number\")"
      ],
      "metadata": {
        "colab": {
          "base_uri": "https://localhost:8080/"
        },
        "id": "BDFoygjUOdDd",
        "outputId": "36a72b0c-4142-4725-9072-22d882ef7385"
      },
      "execution_count": null,
      "outputs": [
        {
          "output_type": "stream",
          "name": "stdout",
          "text": [
            "29 is a prime number\n"
          ]
        }
      ]
    },
    {
      "cell_type": "markdown",
      "source": [
        "**4.WAP IN PYHTON TO PRINT THE FIBONACCI SERIES USING ITERATIVE METHOD**"
      ],
      "metadata": {
        "id": "7_hfDro8RFBH"
      }
    },
    {
      "cell_type": "code",
      "source": [
        "a = 0\n",
        "b = 1\n",
        "n=int(input(\"Enter the number of terms in the sequence: \"))\n",
        "print(a,b,end=\" \")\n",
        "while(n-2):\n",
        "    c=a+b\n",
        "    a,b = b,c\n",
        "    print(c,end=\" \")\n",
        "    n=n-1\n"
      ],
      "metadata": {
        "colab": {
          "base_uri": "https://localhost:8080/"
        },
        "id": "OTyCXM55RY8v",
        "outputId": "5cb3b345-7703-4509-cfe9-4e7d63185843"
      },
      "execution_count": null,
      "outputs": [
        {
          "output_type": "stream",
          "name": "stdout",
          "text": [
            "Enter the number of terms in the sequence: 5\n",
            "0 1 1 2 3 "
          ]
        }
      ]
    },
    {
      "cell_type": "markdown",
      "source": [
        "**5.WAP IN PYTHON TO PRINT THE FIBONACCI SERIES USING RECURSIVE METHOD**"
      ],
      "metadata": {
        "id": "p3agBrAjThUd"
      }
    },
    {
      "cell_type": "code",
      "source": [
        "def recur_fibo(n):\n",
        "  if n <= 1:\n",
        "    return n\n",
        "  else:\n",
        "      return(recur_fibo(n-1)) + recur_fibo(n-2)\n",
        "nterms = 10\n",
        "if nterms <= 0:\n",
        "   print(\"Please enter a positive integer\")\n",
        "else:\n",
        "   print(\"Fibonacci sequence\")\n",
        "   for i in range(nterms):\n",
        "        print(recur_fibo(i))"
      ],
      "metadata": {
        "colab": {
          "base_uri": "https://localhost:8080/"
        },
        "id": "V8HWRXjHTugi",
        "outputId": "5a0985e4-aba8-4d67-cdc4-2f72e413bc1b"
      },
      "execution_count": null,
      "outputs": [
        {
          "output_type": "stream",
          "name": "stdout",
          "text": [
            "Fibonacci sequence\n",
            "0\n",
            "1\n",
            "1\n",
            "2\n",
            "3\n",
            "5\n",
            "8\n",
            "13\n",
            "21\n",
            "34\n"
          ]
        }
      ]
    },
    {
      "cell_type": "markdown",
      "source": [
        "**6.WAP TO CHECK WHETHER A NUMBER IS PALLINDROME OR NOT USING ITERATIVE METHOD**"
      ],
      "metadata": {
        "id": "Jr7XqQXLU0yn"
      }
    },
    {
      "cell_type": "code",
      "source": [
        "n = int(input (\"Enter a number:\"))\n",
        "reverse,temp = 0,n\n",
        "while temp!=0:\n",
        "  reverse = reverse*10 + temp%10;\n",
        "  temp=temp//10;\n",
        "if reverse == n:\n",
        "  print(\"Number is pallindrome\")\n",
        "else:\n",
        "  print(\"Number is not pallindrome\")\n"
      ],
      "metadata": {
        "colab": {
          "base_uri": "https://localhost:8080/"
        },
        "id": "tZ9_A8AOX0AJ",
        "outputId": "9ee34ee9-af58-4318-de4d-969d3aa88da6"
      },
      "execution_count": null,
      "outputs": [
        {
          "output_type": "stream",
          "name": "stdout",
          "text": [
            "Enter a number:4004\n",
            "Number is pallindrome\n"
          ]
        }
      ]
    },
    {
      "cell_type": "markdown",
      "source": [
        "**7.WAP TO CHECK WHETHER A NUMBER IS PALLINDROME OR NOT USING RECURSIVE METHOD**"
      ],
      "metadata": {
        "id": "Dnb7LMpMZNDr"
      }
    },
    {
      "cell_type": "code",
      "source": [
        "n = int(input(\"please give a number : \"))\n",
        "def reverse(num):\n",
        "    if num<10:\n",
        "      return num \n",
        "    else:\n",
        "      return int(str(num%10) + str(reverse(num//10)))\n",
        "def isPalindrome(num):\n",
        "    if num == reverse(num):\n",
        "        return 1\n",
        "    return 0\n",
        "if isPalindrome(n) == 1:\n",
        "    print(\"Given number is a palindrome\")\n",
        "else:\n",
        "    print(\"Given number is a not palindrome\") "
      ],
      "metadata": {
        "colab": {
          "base_uri": "https://localhost:8080/"
        },
        "id": "UpEH68M4dpTf",
        "outputId": "8c70352a-83be-495f-aae6-987218ad2a58"
      },
      "execution_count": null,
      "outputs": [
        {
          "output_type": "stream",
          "name": "stdout",
          "text": [
            "please give a number : 2002\n",
            "Given number is a not palindrome\n"
          ]
        }
      ]
    },
    {
      "cell_type": "markdown",
      "source": [
        "**8.WAP TO FIND GREATEST AMONG THREE INTEGERS**"
      ],
      "metadata": {
        "id": "kMX_KTEFdxdx"
      }
    },
    {
      "cell_type": "code",
      "source": [
        "num1 = 10\n",
        "num2 = 14\n",
        "num3 = 12\n",
        "if (num1 >= num2) and (num1 >= num3):\n",
        "  largest = num1\n",
        "elif(num2 >= num1) and (num2 >= num3):\n",
        "  largest = num2\n",
        "else:\n",
        "  largest = num3\n",
        "print(\"The largest number is\",largest)"
      ],
      "metadata": {
        "colab": {
          "base_uri": "https://localhost:8080/"
        },
        "id": "q5xYnc88d_w7",
        "outputId": "908d09b1-b7ac-4bba-f076-68a5be2273e5"
      },
      "execution_count": null,
      "outputs": [
        {
          "output_type": "stream",
          "name": "stdout",
          "text": [
            "The largest number is 14\n"
          ]
        }
      ]
    },
    {
      "cell_type": "markdown",
      "source": [
        "**9.WAP TO CHECK IF A NUMBER IS BINARY**"
      ],
      "metadata": {
        "id": "3JJxBE2me8Hx"
      }
    },
    {
      "cell_type": "code",
      "source": [
        "def check(string):\n",
        "  p = set(string)\n",
        "  s = {'0','1'}\n",
        "  if s == p or p == {'0'} or p == {'1'}:\n",
        "    print(\"Yes\")\n",
        "  else:\n",
        "    print(\"No\")\n",
        "if __name__ == \"__main__\":\n",
        "  string = \"101010000111\"\n",
        "  check(string)\n",
        "  "
      ],
      "metadata": {
        "colab": {
          "base_uri": "https://localhost:8080/"
        },
        "id": "rHVXQdXofIml",
        "outputId": "148f47de-91cf-4539-a232-be7fddde9bef"
      },
      "execution_count": null,
      "outputs": [
        {
          "output_type": "stream",
          "name": "stdout",
          "text": [
            "Yes\n"
          ]
        }
      ]
    },
    {
      "cell_type": "markdown",
      "source": [
        "**10. WAP IN TO FIND SUM OF DIGITS OF A NUMBER USING RECURSION**"
      ],
      "metadata": {
        "id": "K8KPDe1gILAH"
      }
    },
    {
      "cell_type": "code",
      "source": [
        "def sum_of_digit(n):\n",
        "  if n == 0:\n",
        "    return 0\n",
        "  return(n % 10 + sum_of_digit(int(n / 10))) \n",
        "num = 12345\n",
        "result = sum_of_digit(num)\n",
        "print(\"Sum of digits in\",num,\"is\", result)"
      ],
      "metadata": {
        "colab": {
          "base_uri": "https://localhost:8080/"
        },
        "id": "rhmf2_HpK-Ju",
        "outputId": "d5146c63-bb7d-49a7-fe22-dca071b34d10"
      },
      "execution_count": 1,
      "outputs": [
        {
          "output_type": "stream",
          "name": "stdout",
          "text": [
            "Sum of digits in 12345 is 15\n"
          ]
        }
      ]
    },
    {
      "cell_type": "markdown",
      "source": [
        "**11.WAP TO SWAP TWO NUMBERS WITHOUT USING THIRD VARIABLE**"
      ],
      "metadata": {
        "id": "8cy3Lvv7MFAI"
      }
    },
    {
      "cell_type": "code",
      "source": [
        "a = int (input(\"Enter value of A:\"))\n",
        "b = int (input(\"Enter value of B:\"))\n",
        "print(\"A = {} and B = {}\" . format(a,b))\n",
        "a = a + b\n",
        "b = a - b\n",
        "a = a - b\n",
        "print(\"Now, A = {} and B = {}\" . format(a,b))"
      ],
      "metadata": {
        "colab": {
          "base_uri": "https://localhost:8080/"
        },
        "id": "1Zp7UN0_MTC0",
        "outputId": "5fc5bae7-cf06-49c9-aaf2-affcb27ba351"
      },
      "execution_count": 5,
      "outputs": [
        {
          "output_type": "stream",
          "name": "stdout",
          "text": [
            "Enter value of A:30\n",
            "Enter value of B:20\n",
            "A = 30 and B = 20\n",
            "Now, A = 20 and B = 30\n"
          ]
        }
      ]
    },
    {
      "cell_type": "markdown",
      "source": [
        "**12.WAP TO SWAP TWO NUMBERS USING THIRD VARIABLE**"
      ],
      "metadata": {
        "id": "khSeg9AkNzTn"
      }
    },
    {
      "cell_type": "code",
      "source": [
        "x = 5\n",
        "y = 10\n",
        "temp = x\n",
        "x = y\n",
        "y = temp\n",
        "print('The value of x after swapping: {}'.format(x))\n",
        "print('The value of y after swapping: {}'.format(y))"
      ],
      "metadata": {
        "colab": {
          "base_uri": "https://localhost:8080/"
        },
        "id": "IUA7oNn0ORh0",
        "outputId": "aab340a6-74a7-45d0-e9be-4ea064e13573"
      },
      "execution_count": 7,
      "outputs": [
        {
          "output_type": "stream",
          "name": "stdout",
          "text": [
            "The value of x after swapping: 10\n",
            "The value of y after swapping: 5\n"
          ]
        }
      ]
    },
    {
      "cell_type": "markdown",
      "source": [
        "**13.WAP TO FIND PRIME FACTORS OF A GIVEN NUMBER**"
      ],
      "metadata": {
        "id": "2lEILSobP5Oe"
      }
    },
    {
      "cell_type": "code",
      "source": [
        "import math\n",
        "def prime_factors(num):\n",
        "  while num % 2 == 0:\n",
        "    print(2,)\n",
        "    num = num/2\n",
        "  for i in range(3,int(math.sqrt(num))+1,2):\n",
        "    while num % i ==0:\n",
        "      print(i,)\n",
        "      num = num/i\n",
        "  if num > 2:\n",
        "    print(num)\n",
        "    num = 200\n",
        "    prime_factors(num)"
      ],
      "metadata": {
        "id": "NCiFEgC8U0Ow"
      },
      "execution_count": 13,
      "outputs": []
    }
  ]
}