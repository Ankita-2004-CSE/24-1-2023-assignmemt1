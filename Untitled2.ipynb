{
  "nbformat": 4,
  "nbformat_minor": 0,
  "metadata": {
    "colab": {
      "provenance": [],
      "authorship_tag": "ABX9TyMYZTDLEZNrDoTkQ6jvR61c",
      "include_colab_link": true
    },
    "kernelspec": {
      "name": "python3",
      "display_name": "Python 3"
    },
    "language_info": {
      "name": "python"
    }
  },
  "cells": [
    {
      "cell_type": "markdown",
      "metadata": {
        "id": "view-in-github",
        "colab_type": "text"
      },
      "source": [
        "<a href=\"https://colab.research.google.com/github/Ankita-2004-CSE/24-1-2023-assignmemt1/blob/main/Untitled2.ipynb\" target=\"_parent\"><img src=\"https://colab.research.google.com/assets/colab-badge.svg\" alt=\"Open In Colab\"/></a>"
      ]
    },
    {
      "cell_type": "markdown",
      "source": [
        "1.**WAP TO REVERSE AN INTEGER IN PYTHON**\n",
        "\n"
      ],
      "metadata": {
        "id": "LNNKC0GeMP8K"
      }
    },
    {
      "cell_type": "code",
      "execution_count": 2,
      "metadata": {
        "colab": {
          "base_uri": "https://localhost:8080/"
        },
        "id": "5biAPXS3KPOF",
        "outputId": "69155c7f-ab40-48ea-c0b5-7fb2cfa74fb0"
      },
      "outputs": [
        {
          "output_type": "stream",
          "name": "stdout",
          "text": [
            "Reversed Number:4\n",
            "Reversed Number:43\n",
            "Reversed Number:432\n",
            "Reversed Number:4321\n"
          ]
        }
      ],
      "source": [
        "num = 1234\n",
        "reversed_num = 0\n",
        "while num != 0:\n",
        "  digit = num % 10\n",
        "  reversed_num = reversed_num * 10 + digit\n",
        "  num //= 10\n",
        "  print(\"Reversed Number:\" + str(reversed_num))"
      ]
    },
    {
      "cell_type": "markdown",
      "source": [
        "2.**WAP TO CHECK WHETHER AN INTEGER IS ARMSTRONG NUMBER OR NOT**"
      ],
      "metadata": {
        "id": "STRNjWYaMZ6y"
      }
    },
    {
      "cell_type": "code",
      "source": [
        "num = int(input(\"Enter a number:\"))\n",
        "sum = 0\n",
        "temp = num\n",
        "while temp > 0:\n",
        "  digit = temp % 10\n",
        "  sum += digit ** 3\n",
        "  temp //= 10\n",
        "  if num == sum:\n",
        "    print(num,\"is an armstrong number\")\n",
        "  else:\n",
        "    print(num,\"is not an armstrong number\")"
      ],
      "metadata": {
        "colab": {
          "base_uri": "https://localhost:8080/"
        },
        "id": "-hU07r4CMYx7",
        "outputId": "ecb607d0-0f07-4982-ff24-9f15b9cd768f"
      },
      "execution_count": 4,
      "outputs": [
        {
          "output_type": "stream",
          "name": "stdout",
          "text": [
            "Enter a number:110\n",
            "110 is not an armstrong number\n",
            "110 is not an armstrong number\n",
            "110 is not an armstrong number\n"
          ]
        }
      ]
    },
    {
      "cell_type": "markdown",
      "source": [
        "**3.WAP TO CHECK GIVEN NUMBER IS PRIME OR NOT**"
      ],
      "metadata": {
        "id": "WXrEWGCoOIde"
      }
    },
    {
      "cell_type": "code",
      "source": [
        "\n",
        "\n",
        "num = 29\n",
        "flag = False\n",
        "\n",
        "if num == 1:\n",
        "    print(num, \"is not a prime number\")\n",
        "elif num > 1:\n",
        "    for i in range(2, num):\n",
        "        if (num % i) == 0:\n",
        "            flag = True\n",
        "            break\n",
        "    if flag:\n",
        "        print(num, \"is not a prime number\")\n",
        "    else:\n",
        "        print(num, \"is a prime number\")"
      ],
      "metadata": {
        "colab": {
          "base_uri": "https://localhost:8080/"
        },
        "id": "BDFoygjUOdDd",
        "outputId": "36a72b0c-4142-4725-9072-22d882ef7385"
      },
      "execution_count": 10,
      "outputs": [
        {
          "output_type": "stream",
          "name": "stdout",
          "text": [
            "29 is a prime number\n"
          ]
        }
      ]
    },
    {
      "cell_type": "markdown",
      "source": [
        "**4.WAP IN PYHTON TO PRINT THE FIBONACCI SERIES USING ITERATIVE METHOD**"
      ],
      "metadata": {
        "id": "7_hfDro8RFBH"
      }
    },
    {
      "cell_type": "code",
      "source": [
        "a = 0\n",
        "b = 1\n",
        "n=int(input(\"Enter the number of terms in the sequence: \"))\n",
        "print(a,b,end=\" \")\n",
        "while(n-2):\n",
        "    c=a+b\n",
        "    a,b = b,c\n",
        "    print(c,end=\" \")\n",
        "    n=n-1\n"
      ],
      "metadata": {
        "colab": {
          "base_uri": "https://localhost:8080/"
        },
        "id": "OTyCXM55RY8v",
        "outputId": "5cb3b345-7703-4509-cfe9-4e7d63185843"
      },
      "execution_count": 15,
      "outputs": [
        {
          "output_type": "stream",
          "name": "stdout",
          "text": [
            "Enter the number of terms in the sequence: 5\n",
            "0 1 1 2 3 "
          ]
        }
      ]
    },
    {
      "cell_type": "markdown",
      "source": [
        "**5.WAP IN PYTHON TO PRINT THE FIBONACCI SERIES USING RECURSIVE METHOD**"
      ],
      "metadata": {
        "id": "p3agBrAjThUd"
      }
    },
    {
      "cell_type": "code",
      "source": [
        "def recur_fibo(n):\n",
        "  if n <= 1:\n",
        "    return n\n",
        "  else:\n",
        "      return(recur_fibo(n-1)) + recur_fibo(n-2)\n",
        "nterms = 10\n",
        "if nterms <= 0:\n",
        "   print(\"Please enter a positive integer\")\n",
        "else:\n",
        "   print(\"Fibonacci sequence\")\n",
        "   for i in range(nterms):\n",
        "        print(recur_fibo(i))"
      ],
      "metadata": {
        "colab": {
          "base_uri": "https://localhost:8080/"
        },
        "id": "V8HWRXjHTugi",
        "outputId": "5a0985e4-aba8-4d67-cdc4-2f72e413bc1b"
      },
      "execution_count": 28,
      "outputs": [
        {
          "output_type": "stream",
          "name": "stdout",
          "text": [
            "Fibonacci sequence\n",
            "0\n",
            "1\n",
            "1\n",
            "2\n",
            "3\n",
            "5\n",
            "8\n",
            "13\n",
            "21\n",
            "34\n"
          ]
        }
      ]
    },
    {
      "cell_type": "markdown",
      "source": [
        "**6.WAP TO CHECK WHETHER A NUMBER IS PALLINDROME OR NOT USING ITERATIVE METHOD**"
      ],
      "metadata": {
        "id": "Jr7XqQXLU0yn"
      }
    },
    {
      "cell_type": "code",
      "source": [
        "n = int(input (\"Enter a number:\"))\n",
        "reverse,temp = 0,n\n",
        "while temp!=0:\n",
        "  reverse = reverse*10 + temp%10;\n",
        "  temp=temp//10;\n",
        "if reverse == n:\n",
        "  print(\"Number is pallindrome\")\n",
        "else:\n",
        "  print(\"Number is not pallindrome\")\n"
      ],
      "metadata": {
        "colab": {
          "base_uri": "https://localhost:8080/"
        },
        "id": "tZ9_A8AOX0AJ",
        "outputId": "9ee34ee9-af58-4318-de4d-969d3aa88da6"
      },
      "execution_count": 31,
      "outputs": [
        {
          "output_type": "stream",
          "name": "stdout",
          "text": [
            "Enter a number:4004\n",
            "Number is pallindrome\n"
          ]
        }
      ]
    },
    {
      "cell_type": "markdown",
      "source": [
        "**7.WAP TO CHECK WHETHER A NUMBER IS PALLINDROME OR NOT USING RECURSIVE METHOD**"
      ],
      "metadata": {
        "id": "Dnb7LMpMZNDr"
      }
    },
    {
      "cell_type": "code",
      "source": [
        "n = int(input(\"please give a number : \"))\n",
        "def reverse(num):\n",
        "    if num<10:\n",
        "      return num \n",
        "    else:\n",
        "      return int(str(num%10) + str(reverse(num//10)))\n",
        "def isPalindrome(num):\n",
        "    if num == reverse(num):\n",
        "        return 1\n",
        "    return 0\n",
        "if isPalindrome(n) == 1:\n",
        "    print(\"Given number is a palindrome\")\n",
        "else:\n",
        "    print(\"Given number is a not palindrome\") "
      ],
      "metadata": {
        "colab": {
          "base_uri": "https://localhost:8080/"
        },
        "id": "UpEH68M4dpTf",
        "outputId": "8c70352a-83be-495f-aae6-987218ad2a58"
      },
      "execution_count": 36,
      "outputs": [
        {
          "output_type": "stream",
          "name": "stdout",
          "text": [
            "please give a number : 2002\n",
            "Given number is a not palindrome\n"
          ]
        }
      ]
    },
    {
      "cell_type": "markdown",
      "source": [
        "**8.WAP TO FIND GREATEST AMONG THREE INTEGERS**"
      ],
      "metadata": {
        "id": "kMX_KTEFdxdx"
      }
    },
    {
      "cell_type": "code",
      "source": [
        "num1 = 10\n",
        "num2 = 14\n",
        "num3 = 12\n",
        "if (num1 >= num2) and (num1 >= num3):\n",
        "  largest = num1\n",
        "elif(num2 >= num1) and (num2 >= num3):\n",
        "  largest = num2\n",
        "else:\n",
        "  largest = num3\n",
        "print(\"The largest number is\",largest)"
      ],
      "metadata": {
        "colab": {
          "base_uri": "https://localhost:8080/"
        },
        "id": "q5xYnc88d_w7",
        "outputId": "908d09b1-b7ac-4bba-f076-68a5be2273e5"
      },
      "execution_count": 37,
      "outputs": [
        {
          "output_type": "stream",
          "name": "stdout",
          "text": [
            "The largest number is 14\n"
          ]
        }
      ]
    },
    {
      "cell_type": "markdown",
      "source": [
        "**9.WAP TO CHECK IF A NUMBER IS BINARY**"
      ],
      "metadata": {
        "id": "3JJxBE2me8Hx"
      }
    },
    {
      "cell_type": "code",
      "source": [
        "def check(string):\n",
        "  p = set(string)\n",
        "  s = {'0','1'}\n",
        "  if s == p or p == {'0'} or p == {'1'}:\n",
        "    print(\"Yes\")\n",
        "  else:\n",
        "    print(\"No\")\n",
        "if __name__ == \"__main__\":\n",
        "  string = \"101010000111\"\n",
        "  check(string)\n",
        "  "
      ],
      "metadata": {
        "colab": {
          "base_uri": "https://localhost:8080/"
        },
        "id": "rHVXQdXofIml",
        "outputId": "148f47de-91cf-4539-a232-be7fddde9bef"
      },
      "execution_count": 38,
      "outputs": [
        {
          "output_type": "stream",
          "name": "stdout",
          "text": [
            "Yes\n"
          ]
        }
      ]
    }
  ]
}